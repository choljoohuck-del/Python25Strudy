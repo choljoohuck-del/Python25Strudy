{
  "nbformat": 4,
  "nbformat_minor": 0,
  "metadata": {
    "colab": {
      "provenance": [],
      "authorship_tag": "ABX9TyMdO9/1X2Dx28WwX5L06ci8",
      "include_colab_link": true
    },
    "kernelspec": {
      "name": "python3",
      "display_name": "Python 3"
    },
    "language_info": {
      "name": "python"
    }
  },
  "cells": [
    {
      "cell_type": "markdown",
      "metadata": {
        "id": "view-in-github",
        "colab_type": "text"
      },
      "source": [
        "<a href=\"https://colab.research.google.com/github/choljoohuck-del/Python25Strudy/blob/main/%ED%95%A8%EC%88%98.ipynb\" target=\"_parent\"><img src=\"https://colab.research.google.com/assets/colab-badge.svg\" alt=\"Open In Colab\"/></a>"
      ]
    },
    {
      "cell_type": "code",
      "execution_count": null,
      "metadata": {
        "colab": {
          "base_uri": "https://localhost:8080/"
        },
        "id": "r6pznER7yAs-",
        "outputId": "4d87e112-15f2-4619-b455-9b604396c055"
      },
      "outputs": [
        {
          "output_type": "stream",
          "name": "stdout",
          "text": [
            "7\n",
            "Hi\n"
          ]
        }
      ],
      "source": [
        "def add(a, b):\n",
        "    return a + b\n",
        "a = 3\n",
        "b = 4\n",
        "c = add(a,b)\n",
        "print(c)\n",
        "\n",
        "def say():\n",
        "    return 'Hi'\n",
        "d = say()\n",
        "print(d)\n"
      ]
    },
    {
      "cell_type": "code",
      "source": [
        "def add(a, b):\n",
        "    print(\"%d, %d의 합은 %d입니다.\" % (a, b, a+b))\n",
        "add(8,5)"
      ],
      "metadata": {
        "colab": {
          "base_uri": "https://localhost:8080/"
        },
        "id": "wCndfv7jzVZK",
        "outputId": "0920e688-24ff-4e8f-fb6e-adb7b88e5013"
      },
      "execution_count": null,
      "outputs": [
        {
          "output_type": "stream",
          "name": "stdout",
          "text": [
            "8, 5의 합은 13입니다.\n"
          ]
        }
      ]
    },
    {
      "cell_type": "code",
      "source": [
        "def add_many(*args):\n",
        "    result = 0\n",
        "    for i in args:\n",
        "        result = result + i\n",
        "    return result\n",
        "result = add_many(1,2,3)\n",
        "print(result)\n",
        "result = add_many(1,2,3,4,5,6,7,8,9,10)\n",
        "print(result)"
      ],
      "metadata": {
        "colab": {
          "base_uri": "https://localhost:8080/"
        },
        "id": "MQp0KvMm1Un3",
        "outputId": "d392558d-6d2d-4c55-d932-0e43c44e8e08"
      },
      "execution_count": null,
      "outputs": [
        {
          "output_type": "stream",
          "name": "stdout",
          "text": [
            "6\n",
            "55\n"
          ]
        }
      ]
    },
    {
      "cell_type": "code",
      "source": [
        "def add_mul(choice, *args):\n",
        "    if choice == \"add\":\n",
        "        result = 0\n",
        "        for i in args:\n",
        "            result = result + i\n",
        "    elif choice == \"mul\":\n",
        "\n",
        "        result = 1\n",
        "        for i in args:\n",
        "            result = result * i\n",
        "    return result\n",
        "result = add_mul('add', 1, 2, 3, 4, 5)\n",
        "print(result)\n",
        "result = add_mul('mul', 1, 2, 3, 4, 5)\n",
        "print(result)"
      ],
      "metadata": {
        "colab": {
          "base_uri": "https://localhost:8080/"
        },
        "id": "-CK1ZkJ9ANlE",
        "outputId": "e4936563-61c3-42ce-e66d-7138d7c75774"
      },
      "execution_count": null,
      "outputs": [
        {
          "output_type": "stream",
          "name": "stdout",
          "text": [
            "15\n",
            "120\n"
          ]
        }
      ]
    },
    {
      "cell_type": "code",
      "source": [
        "def print_kwargs(**kwargs):\n",
        "     print(kwargs)\n",
        "print_kwargs(a=1)\n",
        "print_kwargs(name='foo', age=3)\n",
        "print_kwargs(name='홍길동', age=25, city='서울', job='개발자')"
      ],
      "metadata": {
        "colab": {
          "base_uri": "https://localhost:8080/"
        },
        "id": "Ah3D62qBANcM",
        "outputId": "b8f8ec4a-de85-42db-f8b8-97ec31efd588"
      },
      "execution_count": null,
      "outputs": [
        {
          "output_type": "stream",
          "name": "stdout",
          "text": [
            "{'a': 1}\n",
            "{'name': 'foo', 'age': 3}\n",
            "{'name': '홍길동', 'age': 25, 'city': '서울', 'job': '개발자'}\n"
          ]
        }
      ]
    },
    {
      "cell_type": "code",
      "source": [
        "def create_profile(**info):\n",
        "    print(\"=== 프로필 정보 ===\")\n",
        "    for key, value in info.items():\n",
        "        print(f\"{key}: {value}\")\n",
        "create_profile(이름='김철수', 나이=30, 직업='프로그래머', 취미='독서')"
      ],
      "metadata": {
        "colab": {
          "base_uri": "https://localhost:8080/"
        },
        "id": "rBh4KemRJhoh",
        "outputId": "2cb6a8af-72db-45f7-8d0d-1c94e0d0f8fb"
      },
      "execution_count": null,
      "outputs": [
        {
          "output_type": "stream",
          "name": "stdout",
          "text": [
            "=== 프로필 정보 ===\n",
            "이름: 김철수\n",
            "나이: 30\n",
            "직업: 프로그래머\n",
            "취미: 독서\n"
          ]
        }
      ]
    },
    {
      "cell_type": "code",
      "source": [
        "def say_myself(name, age, man=True):\n",
        "    print(\"나의 이름은 %s 입니다.\" % name)\n",
        "    print(\"나이는 %d살입니다.\" % age)\n",
        "    if man:\n",
        "        print(\"남자입니다.\")\n",
        "    else:\n",
        "        print(\"여자입니다.\")\n",
        "say_myself(\"박응용\", 27, 0)"
      ],
      "metadata": {
        "colab": {
          "base_uri": "https://localhost:8080/"
        },
        "id": "Fq92tKySN4OQ",
        "outputId": "2a7b8ec0-71d3-4410-f7f3-e365c6cb320a"
      },
      "execution_count": null,
      "outputs": [
        {
          "output_type": "stream",
          "name": "stdout",
          "text": [
            "나의 이름은 박응용 입니다.\n",
            "나이는 27살입니다.\n",
            "여자입니다.\n"
          ]
        }
      ]
    },
    {
      "cell_type": "code",
      "source": [
        "def vartest(a):\n",
        "    a = a + 1\n",
        "    return a\n",
        "a = vartest(3)\n",
        "print(a)"
      ],
      "metadata": {
        "colab": {
          "base_uri": "https://localhost:8080/"
        },
        "id": "qXrAti0LMBAI",
        "outputId": "8ee2af45-060c-4264-947f-c97039179c54"
      },
      "execution_count": null,
      "outputs": [
        {
          "output_type": "stream",
          "name": "stdout",
          "text": [
            "None\n"
          ]
        }
      ]
    },
    {
      "cell_type": "code",
      "source": [
        "a = 1\n",
        "def vartest():\n",
        "    global a\n",
        "    a = a+3\n",
        "vartest()\n",
        "print(a)"
      ],
      "metadata": {
        "colab": {
          "base_uri": "https://localhost:8080/"
        },
        "id": "xpXA-LRwYF-0",
        "outputId": "b97ac1a9-36fa-42f9-b9e3-5929e80ce9f3"
      },
      "execution_count": null,
      "outputs": [
        {
          "output_type": "stream",
          "name": "stdout",
          "text": [
            "4\n"
          ]
        }
      ]
    },
    {
      "cell_type": "code",
      "source": [
        "add = lambda a, b: a+b\n",
        "result = add(3, 4)\n",
        "print(result)"
      ],
      "metadata": {
        "colab": {
          "base_uri": "https://localhost:8080/"
        },
        "id": "Pqu945ECYU4b",
        "outputId": "d379f836-787a-4562-8b4a-e14cb7f326f8"
      },
      "execution_count": null,
      "outputs": [
        {
          "output_type": "stream",
          "name": "stdout",
          "text": [
            "7\n"
          ]
        }
      ]
    },
    {
      "cell_type": "code",
      "source": [
        "def add(a, b):\n",
        "    \"\"\"\n",
        "    두 숫자를 더하는 함수\n",
        "\n",
        "    Parameters:\n",
        "    a (int, float): 첫 번째 숫자\n",
        "    b (int, float): 두 번째 숫자\n",
        "\n",
        "    Returns:\n",
        "    int, float: 두 숫자의 합\n",
        "    \"\"\"\n",
        "    return a + b\n",
        "\n",
        "# 독스트링 확인하기\n",
        "print(add.__doc__)"
      ],
      "metadata": {
        "colab": {
          "base_uri": "https://localhost:8080/"
        },
        "id": "LhlWAH9uY1Rb",
        "outputId": "7340cc0f-d416-451f-ec07-6753da1ad50b"
      },
      "execution_count": null,
      "outputs": [
        {
          "output_type": "stream",
          "name": "stdout",
          "text": [
            "\n",
            "    두 숫자를 더하는 함수\n",
            "\n",
            "    Parameters:\n",
            "    a (int, float): 첫 번째 숫자\n",
            "    b (int, float): 두 번째 숫자\n",
            "\n",
            "    Returns:\n",
            "    int, float: 두 숫자의 합\n",
            "    \n"
          ]
        }
      ]
    },
    {
      "cell_type": "code",
      "source": [
        "a = input()\n",
        "a"
      ],
      "metadata": {
        "colab": {
          "base_uri": "https://localhost:8080/",
          "height": 54
        },
        "id": "DCKtiP-mZn8L",
        "outputId": "33fcac3d-137a-46af-c676-33dc10902194"
      },
      "execution_count": null,
      "outputs": [
        {
          "name": "stdout",
          "output_type": "stream",
          "text": [
            "hi\n"
          ]
        },
        {
          "output_type": "execute_result",
          "data": {
            "text/plain": [
              "'hi'"
            ],
            "application/vnd.google.colaboratory.intrinsic+json": {
              "type": "string"
            }
          },
          "metadata": {},
          "execution_count": 42
        }
      ]
    },
    {
      "cell_type": "code",
      "source": [
        "input(\"안내_문구\")"
      ],
      "metadata": {
        "colab": {
          "base_uri": "https://localhost:8080/",
          "height": 54
        },
        "id": "MhcewTJaaARz",
        "outputId": "b7a3995d-1a3a-4cad-bcb7-d987fbacaccb"
      },
      "execution_count": null,
      "outputs": [
        {
          "name": "stdout",
          "output_type": "stream",
          "text": [
            "안내_문구안내입니다\n"
          ]
        },
        {
          "output_type": "execute_result",
          "data": {
            "text/plain": [
              "'안내입니다'"
            ],
            "application/vnd.google.colaboratory.intrinsic+json": {
              "type": "string"
            }
          },
          "metadata": {},
          "execution_count": 43
        }
      ]
    },
    {
      "cell_type": "code",
      "source": [
        "age = input(\"나이를 입력하세요: \")\n",
        "age = int(age)\n",
        "print(age + 1)"
      ],
      "metadata": {
        "colab": {
          "base_uri": "https://localhost:8080/"
        },
        "id": "k9hDXe5_anjC",
        "outputId": "f083bf43-9b12-47f7-d83c-114f4d3afd6c"
      },
      "execution_count": null,
      "outputs": [
        {
          "output_type": "stream",
          "name": "stdout",
          "text": [
            "나이를 입력하세요: 25\n",
            "26\n"
          ]
        }
      ]
    },
    {
      "cell_type": "code",
      "source": [
        "print(\"2025\", \"08\", \"17\", sep=\"-\")\n",
        "print(\"점프\", \"투\", \"파이썬\", sep=\" TO \")"
      ],
      "metadata": {
        "colab": {
          "base_uri": "https://localhost:8080/"
        },
        "id": "flOsz751a8ui",
        "outputId": "a574e8c4-fe5c-44b0-93c6-c16864a2421e"
      },
      "execution_count": null,
      "outputs": [
        {
          "output_type": "stream",
          "name": "stdout",
          "text": [
            "2025-08-17\n",
            "점프 TO 투 TO 파이썬\n"
          ]
        }
      ]
    },
    {
      "cell_type": "code",
      "source": [
        "for i in range(10):\n",
        "   print(i, end=' ')"
      ],
      "metadata": {
        "colab": {
          "base_uri": "https://localhost:8080/"
        },
        "id": "XybXy6C8bG77",
        "outputId": "c933bafb-594f-483d-bf3c-2437fe37494e"
      },
      "execution_count": null,
      "outputs": [
        {
          "output_type": "stream",
          "name": "stdout",
          "text": [
            "0 1 2 3 4 5 6 7 8 9 "
          ]
        }
      ]
    },
    {
      "cell_type": "code",
      "source": [
        "# calculator.py\n",
        "print(\"=== 간단한 계산기 ===\")\n",
        "\n",
        "# 사용자로부터 두 숫자 입력받기\n",
        "num1 = float(input(\"첫 번째 숫자를 입력하세요: \"))\n",
        "num2 = float(input(\"두 번째 숫자를 입력하세요: \"))\n",
        "\n",
        "# 계산 결과 출력\n",
        "print(f\"{num1} + {num2} = {num1 + num2}\")\n",
        "print(f\"{num1} - {num2} = {num1 - num2}\")\n",
        "print(f\"{num1} * {num2} = {num1 * num2}\")\n",
        "\n",
        "if num2 != 0:\n",
        "    print(f\"{num1} / {num2} = {num1 / num2}\")\n",
        "else:\n",
        "    print(\"0으로 나눌 수 없습니다.\")\n"
      ],
      "metadata": {
        "colab": {
          "base_uri": "https://localhost:8080/"
        },
        "id": "8gWnzsrlbXOj",
        "outputId": "2986e7b7-112d-41a4-a728-1aa386508816"
      },
      "execution_count": null,
      "outputs": [
        {
          "output_type": "stream",
          "name": "stdout",
          "text": [
            "=== 간단한 계산기 ===\n",
            "첫 번째 숫자를 입력하세요: 3\n",
            "두 번째 숫자를 입력하세요: 5\n",
            "3.0 + 5.0 = 8.0\n",
            "3.0 - 5.0 = -2.0\n",
            "3.0 * 5.0 = 15.0\n",
            "3.0 / 5.0 = 0.6\n"
          ]
        }
      ]
    }
  ]
}